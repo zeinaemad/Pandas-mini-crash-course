{
 "cells": [
  {
   "cell_type": "markdown",
   "id": "f5eda2a8-75cf-4433-b066-b69064a9b399",
   "metadata": {},
   "source": [
    "## Intro\n",
    "\n",
    "Why Pandas? \n",
    "Pandas DataFrame is like a mini-database that you can quickly query and transform.\n",
    "\n",
    "Use-cases:\n",
    "\n",
    "- ML / data science\n",
    "- Data automation / transformation"
   ]
  },
  {
   "cell_type": "markdown",
   "id": "d4c3b98c-a8e9-473a-ae97-f4d12801e44a",
   "metadata": {},
   "source": [
    "---\n",
    "\n",
    "## Topic 1. Reading from CSV and Data Overview"
   ]
  },
  {
   "cell_type": "code",
   "execution_count": null,
   "id": "21609baa-6c18-4ecb-a719-9efbffddb24e",
   "metadata": {},
   "outputs": [],
   "source": [
    "import pandas as pd\n",
    "\n",
    "# Source: https://www.kaggle.com/datasets/melihkanbay/police\n",
    "df = pd.read_csv('police.csv')\n",
    "df.head()"
   ]
  },
  {
   "cell_type": "code",
   "execution_count": null,
   "id": "2906e0e9-a384-453e-8dfa-3c505fbde007",
   "metadata": {},
   "outputs": [],
   "source": [
    "df.head(3)"
   ]
  },
  {
   "cell_type": "code",
   "execution_count": null,
   "id": "83b734ea-9007-474e-95a3-c1b0b5c3d127",
   "metadata": {},
   "outputs": [],
   "source": [
    "df.tail()"
   ]
  },
  {
   "cell_type": "code",
   "execution_count": null,
   "id": "cb408b4c-ed2d-49ef-9dc2-f6c6d105732b",
   "metadata": {},
   "outputs": [],
   "source": [
    "df.shape"
   ]
  },
  {
   "cell_type": "code",
   "execution_count": null,
   "id": "9ebf129f-5d6c-4b87-b036-35c75d4fdf06",
   "metadata": {},
   "outputs": [],
   "source": [
    "df.info()"
   ]
  },
  {
   "cell_type": "code",
   "execution_count": null,
   "id": "b6c05c82-886b-42c0-84e0-ec2fc06e63e2",
   "metadata": {},
   "outputs": [],
   "source": [
    "df_short = pd.read_csv('police.csv', usecols=['stop_date', 'stop_time', 'violation'])\n",
    "df_short.head()"
   ]
  },
  {
   "cell_type": "markdown",
   "id": "90389120-43ea-44f5-8d57-0206ac3b2a2f",
   "metadata": {},
   "source": [
    "---\n",
    "\n",
    "\n",
    "## Topic 2. Reading From Other Data Sources"
   ]
  },
  {
   "cell_type": "markdown",
   "id": "77085d62-6a69-4c66-92cb-9cdc81281a05",
   "metadata": {},
   "source": [
    "There are `pd.read_json()`, `pd.read_html()`, `pd.read_excel()` and other functions."
   ]
  },
  {
   "cell_type": "markdown",
   "id": "2599b76e-f9b4-4a17-a386-d12d91422559",
   "metadata": {},
   "source": [
    "Example of reading from JSON.\n",
    "\n",
    "**transactions.json** file:\n",
    "\n",
    "```\n",
    "[\n",
    "    {\n",
    "      \"date\": \"2024-03-01\",\n",
    "      \"description\": \"Coffee at Starbucks\",\n",
    "      \"category\": \"Food & Drink\",\n",
    "      \"amount\": -4.50,\n",
    "      \"currency\": \"USD\"\n",
    "    },\n",
    "    {\n",
    "      \"date\": \"2024-02-28\",\n",
    "      \"description\": \"Gasoline refill\",\n",
    "      \"category\": \"Transportation\",\n",
    "      \"amount\": -35.75,\n",
    "      \"currency\": \"USD\"\n",
    "    },\n",
    "    {\n",
    "        ...\n",
    "    }\n",
    "]\n",
    "```"
   ]
  },
  {
   "cell_type": "code",
   "execution_count": null,
   "id": "356a714f-8629-49d5-ae3e-fa137bac7635",
   "metadata": {},
   "outputs": [],
   "source": [
    "df_json = pd.read_json('transactions.json')\n",
    "df_json.head()"
   ]
  },
  {
   "cell_type": "markdown",
   "id": "38c268fc-0e6f-476e-8def-42ba50af6d68",
   "metadata": {},
   "source": [
    "---\n",
    "\n",
    "## Topic 3. Create DataFrames from Python Lists/Sets"
   ]
  },
  {
   "cell_type": "code",
   "execution_count": null,
   "id": "a1c351ba-ba16-4f58-8926-55183acf48c9",
   "metadata": {},
   "outputs": [],
   "source": [
    "names = ['John', 'James', 'Jane']\n",
    "ages = 30, 35, 40\n",
    "income = 12345, 23456, 34567\n",
    "dataset = {'names': names, 'ages': ages, 'income': income}\n",
    "\n",
    "df_from_set = pd.DataFrame(dataset)\n",
    "df_from_set.head()"
   ]
  },
  {
   "cell_type": "code",
   "execution_count": null,
   "id": "ea3c86ff-2bba-479d-a2e1-44b89e2c22cb",
   "metadata": {},
   "outputs": [],
   "source": [
    "people = [\n",
    "    ['John', 30, 12345],\n",
    "    ['James', 35, 23456],\n",
    "    ['Jane', 40, 34567]\n",
    "]\n",
    "\n",
    "df_from_list = pd.DataFrame(people, columns=['Name', 'Age', 'Income'])\n",
    "df_from_list.head()"
   ]
  },
  {
   "cell_type": "markdown",
   "id": "fe52311c-91b2-45c6-9384-20fff764652d",
   "metadata": {},
   "source": [
    "---\n",
    "\n",
    "## Topic 4. Storing into CSV or Other Files"
   ]
  },
  {
   "cell_type": "code",
   "execution_count": null,
   "id": "b6f99a8f-4070-44db-a44b-b0b2df5eeb49",
   "metadata": {},
   "outputs": [],
   "source": [
    "df_json.to_csv('transactions.csv')\n",
    "df_from_list.to_json('people.json')"
   ]
  },
  {
   "cell_type": "markdown",
   "id": "938c3a29-d9fb-4552-9e4e-779e80343092",
   "metadata": {},
   "source": [
    "There are also `df.to_excel()`, `df.to_html()` and others."
   ]
  },
  {
   "cell_type": "markdown",
   "id": "d0f8368f-afc7-4992-aae4-564e5e653101",
   "metadata": {},
   "source": [
    "---\n",
    "\n",
    "## Topic 5. Subset of Data with iloc[]"
   ]
  },
  {
   "cell_type": "code",
   "execution_count": null,
   "id": "75253feb-9ceb-45f7-ac13-dd091d616f32",
   "metadata": {},
   "outputs": [],
   "source": [
    "df.head()"
   ]
  },
  {
   "cell_type": "code",
   "execution_count": null,
   "id": "97524b55-920f-4641-83df-a46a692f1f9a",
   "metadata": {},
   "outputs": [],
   "source": [
    "df.iloc[1]"
   ]
  },
  {
   "cell_type": "code",
   "execution_count": null,
   "id": "c06cf21a-ab3a-42b9-9afc-68f23b7f9084",
   "metadata": {},
   "outputs": [],
   "source": [
    "df.iloc[1:3]"
   ]
  },
  {
   "cell_type": "code",
   "execution_count": null,
   "id": "ceae4e4d-e753-4f02-91ff-2c79562488a9",
   "metadata": {},
   "outputs": [],
   "source": [
    "df.iloc[1:3, 1]"
   ]
  },
  {
   "cell_type": "code",
   "execution_count": null,
   "id": "d91412e0-c45f-475f-ac9e-5c3f40fadf2b",
   "metadata": {},
   "outputs": [],
   "source": [
    "df.iloc[1:3, -1]"
   ]
  },
  {
   "cell_type": "code",
   "execution_count": null,
   "id": "b4d72d1b-ef7d-494c-ad60-8c199d360e62",
   "metadata": {},
   "outputs": [],
   "source": [
    "df.iloc[1:3, 1:3]"
   ]
  },
  {
   "cell_type": "code",
   "execution_count": null,
   "id": "399de31c-48f6-4445-a205-11273c0d53e3",
   "metadata": {},
   "outputs": [],
   "source": [
    "df.iloc[:, 1:3]"
   ]
  },
  {
   "cell_type": "code",
   "execution_count": null,
   "id": "c7fbcc71-db9f-4fe4-8de8-dc18cff72a3b",
   "metadata": {},
   "outputs": [],
   "source": [
    "df.iloc[:, 1:-1]"
   ]
  },
  {
   "cell_type": "code",
   "execution_count": null,
   "id": "798e3ce4-5bd9-4014-ad86-52e7bac1f280",
   "metadata": {},
   "outputs": [],
   "source": [
    "df.iloc[:, -1]"
   ]
  },
  {
   "cell_type": "markdown",
   "id": "0408d2a1-8a26-4e2d-a400-f624d7ce06b1",
   "metadata": {},
   "source": [
    "---\n",
    "\n",
    "## Topic 6. Filtering / Quering Data with Conditions"
   ]
  },
  {
   "cell_type": "code",
   "execution_count": null,
   "id": "8a8dfab6-247e-492e-b828-ac2905c64926",
   "metadata": {},
   "outputs": [],
   "source": [
    "df_filtered = df[df['driver_gender'] == 'F']\n",
    "df_filtered"
   ]
  },
  {
   "cell_type": "code",
   "execution_count": null,
   "id": "8fe3a1b0-095d-4cc2-b976-3228b64cb74f",
   "metadata": {},
   "outputs": [],
   "source": [
    "df_filtered = df[(df['driver_gender'] == 'F') & (df['driver_age'] <= 21)]\n",
    "df_filtered"
   ]
  },
  {
   "cell_type": "code",
   "execution_count": null,
   "id": "705aa7c0-d6d8-4912-8e14-23a6bc2aa871",
   "metadata": {},
   "outputs": [],
   "source": [
    "df_filtered = df_filtered[df_filtered['violation_raw'].str.contains('Speed')]\n",
    "df_filtered.shape"
   ]
  },
  {
   "cell_type": "code",
   "execution_count": null,
   "id": "5d3287cd-6fa1-46ef-a03c-bba976dbd1bb",
   "metadata": {},
   "outputs": [],
   "source": [
    "df_filtered = df.query(\"driver_gender == 'F' & driver_age <= 21\")\n",
    "df_filtered"
   ]
  },
  {
   "cell_type": "markdown",
   "id": "51a47530-0a93-4e63-be9b-80126eb66673",
   "metadata": {},
   "source": [
    "---\n",
    "\n",
    "## Topic 7. Data Cleaning: Find/Drop Empty Values"
   ]
  },
  {
   "cell_type": "code",
   "execution_count": null,
   "id": "53cf48d4-b90e-4859-8249-d795d037aa27",
   "metadata": {},
   "outputs": [],
   "source": [
    "df.isna().sum()"
   ]
  },
  {
   "cell_type": "code",
   "execution_count": null,
   "id": "99d4c2b1-ed95-42ec-a48f-de851f163fd6",
   "metadata": {},
   "outputs": [],
   "source": [
    "df_filtered = df.dropna()\n",
    "df_filtered.shape"
   ]
  },
  {
   "cell_type": "code",
   "execution_count": null,
   "id": "59dc84b6-f5a5-4782-bf72-483e15930490",
   "metadata": {},
   "outputs": [],
   "source": [
    "df_filtered = df.dropna(subset=['stop_outcome'])\n",
    "df_filtered.shape"
   ]
  },
  {
   "cell_type": "code",
   "execution_count": null,
   "id": "2f5cd655-76af-45f2-a182-95ee9e47c259",
   "metadata": {},
   "outputs": [],
   "source": [
    "df_filtered.isna().sum()"
   ]
  },
  {
   "cell_type": "code",
   "execution_count": null,
   "id": "363c48b5-c18b-442b-bca6-81e9a8faeeb0",
   "metadata": {},
   "outputs": [],
   "source": [
    "# df_filtered.dropna(subset=['driver_age'], inplace=True)\n",
    "df_filtered = df_filtered.dropna(subset=['driver_age'])\n",
    "df_filtered.shape"
   ]
  },
  {
   "cell_type": "code",
   "execution_count": null,
   "id": "c9c8b999-cefb-46ec-bafb-66d299c7450c",
   "metadata": {},
   "outputs": [],
   "source": [
    "df_filtered.isna().sum()"
   ]
  },
  {
   "cell_type": "code",
   "execution_count": null,
   "id": "90499ca9-51da-428c-b9c0-e4cce1bebfd8",
   "metadata": {},
   "outputs": [],
   "source": [
    "# df_filtered['driver_gender'].fillna('M', inplace=True)\n",
    "df_filtered['driver_gender'] = df_filtered['driver_gender'].fillna('M')\n",
    "df_filtered.isna().sum()"
   ]
  },
  {
   "cell_type": "markdown",
   "id": "d6d3f09a-18cc-4351-bed4-e176daa95295",
   "metadata": {},
   "source": [
    "---\n",
    "\n",
    "## Topic 8. Data Cleaning: Filter/drop duplicates"
   ]
  },
  {
   "cell_type": "code",
   "execution_count": null,
   "id": "c267c965-5244-4e9a-b6bb-2249ec9009bc",
   "metadata": {},
   "outputs": [],
   "source": [
    "df[df.duplicated(keep=False)]"
   ]
  },
  {
   "cell_type": "code",
   "execution_count": null,
   "id": "58287c2f-95f5-4a02-9309-1d585175db99",
   "metadata": {},
   "outputs": [],
   "source": [
    "df[df.duplicated(['stop_date', 'stop_time'], keep=False)]"
   ]
  },
  {
   "cell_type": "code",
   "execution_count": null,
   "id": "fc044fe7-85c3-4cf2-8b29-4c71f382bb7f",
   "metadata": {},
   "outputs": [],
   "source": [
    "df_cleaned = df.drop_duplicates()\n",
    "df_cleaned"
   ]
  },
  {
   "cell_type": "markdown",
   "id": "76cb902d-5683-48be-ab8d-db7ba773571c",
   "metadata": {},
   "source": [
    "---\n",
    "\n",
    "## Topic 9. Data Cleaning by Column Values"
   ]
  },
  {
   "cell_type": "code",
   "execution_count": null,
   "id": "4dbdcf45-11e4-4dec-91dc-1938f9123175",
   "metadata": {},
   "outputs": [],
   "source": [
    "df['violation'].value_counts()"
   ]
  },
  {
   "cell_type": "code",
   "execution_count": null,
   "id": "9c2b6f47-5af0-4f0f-a6dd-303db002c275",
   "metadata": {},
   "outputs": [],
   "source": [
    "df['stop_outcome'].value_counts()"
   ]
  },
  {
   "cell_type": "code",
   "execution_count": null,
   "id": "def9de29-dda0-49b8-9387-1b6ced2811fb",
   "metadata": {},
   "outputs": [],
   "source": [
    "df.shape"
   ]
  },
  {
   "cell_type": "code",
   "execution_count": null,
   "id": "f56e105b-1202-46c0-b5bd-305774435f1f",
   "metadata": {},
   "outputs": [],
   "source": [
    "df_actionable = df[~df['stop_outcome'].isin(['N/D', 'No Action'])]\n",
    "df_actionable.shape"
   ]
  },
  {
   "cell_type": "markdown",
   "id": "f8c04433-a87c-49d0-8c43-fb32ed1593d3",
   "metadata": {},
   "source": [
    "---\n",
    "\n",
    "## Topic 10. Columns: Drop, Rename, Add, Update"
   ]
  },
  {
   "cell_type": "code",
   "execution_count": null,
   "id": "543cb0eb-1df0-45d7-a8e2-5c81eb8c8ee1",
   "metadata": {},
   "outputs": [],
   "source": [
    "df.head()"
   ]
  },
  {
   "cell_type": "code",
   "execution_count": null,
   "id": "45e30cb6-9c15-442d-a2f7-d169c15da897",
   "metadata": {},
   "outputs": [],
   "source": [
    "df.isna().sum()"
   ]
  },
  {
   "cell_type": "code",
   "execution_count": null,
   "id": "ef36798c-d8d8-4852-9f57-faa1ebb21f7a",
   "metadata": {},
   "outputs": [],
   "source": [
    "df_no_county = df.drop('county_name', axis=1)\n",
    "df_no_county.head()"
   ]
  },
  {
   "cell_type": "code",
   "execution_count": null,
   "id": "038e8496-d5ef-4ea3-81ca-d2dbe49e8745",
   "metadata": {},
   "outputs": [],
   "source": [
    "df_renamed = df.rename(columns={\n",
    "    'driver_age_raw': 'driver_birth_year', \n",
    "    'search_conducted': 'is_search_conducted', \n",
    "    'drugs_related_stop': 'is_drug_related_stop'\n",
    "})\n",
    "df_renamed.head()"
   ]
  },
  {
   "cell_type": "code",
   "execution_count": null,
   "id": "8ed299ac-9564-4e69-80c4-4c272a82d62a",
   "metadata": {},
   "outputs": [],
   "source": [
    "from datetime import datetime\n",
    "current_year = datetime.now().year\n",
    "\n",
    "df_renamed['driver_age_current'] = current_year - df_renamed['driver_birth_year']\n",
    "df_renamed.head()"
   ]
  },
  {
   "cell_type": "code",
   "execution_count": null,
   "id": "76408237-64b0-49a9-aa59-b7527b3ac9c8",
   "metadata": {},
   "outputs": [],
   "source": [
    "df_renamed.insert(0, 'driver_age_now', current_year - df_renamed['driver_birth_year'])\n",
    "df_renamed.head()"
   ]
  },
  {
   "cell_type": "code",
   "execution_count": null,
   "id": "c39fee60-b2c8-4961-961e-89f0151dfad3",
   "metadata": {},
   "outputs": [],
   "source": [
    "df_renamed['driver_gender'] = df_renamed['driver_gender'].apply(lambda x: 'Male' if x == 'M' else 'Female')\n",
    "df_renamed.head()"
   ]
  },
  {
   "cell_type": "markdown",
   "id": "3633efbd-b6a0-49c3-a4f0-867adc79cba0",
   "metadata": {},
   "source": [
    "---\n",
    "\n",
    "## Topic 11. Data Types and DateTime"
   ]
  },
  {
   "cell_type": "code",
   "execution_count": null,
   "id": "8be7b022-f874-4502-ab9f-4beedef271db",
   "metadata": {},
   "outputs": [],
   "source": [
    "df.info()"
   ]
  },
  {
   "cell_type": "code",
   "execution_count": null,
   "id": "16065c13-3c2e-4caf-b413-6189c2486624",
   "metadata": {},
   "outputs": [],
   "source": [
    "# df.insert(0, 'stop_year', df['stop_date'].year)\n",
    "\n",
    "df['stop_date'] = pd.to_datetime(df['stop_date'])\n",
    "df.info()\n",
    "\n",
    "df.insert(0, 'stop_year', df['stop_date'].dt.year)\n",
    "df.head()"
   ]
  },
  {
   "cell_type": "code",
   "execution_count": null,
   "id": "ca4b4f50-243f-4535-bb50-a3a87ef560d0",
   "metadata": {},
   "outputs": [],
   "source": [
    "df_datetime = pd.read_csv('police.csv', parse_dates=['stop_date'])\n",
    "df_datetime.info()\n",
    "\n",
    "df_datetime.insert(0, 'stop_year', df_datetime['stop_date'].dt.year)\n",
    "df_datetime.head()"
   ]
  },
  {
   "cell_type": "markdown",
   "id": "dd14b1c5-b821-4e14-b533-39516cfbd21e",
   "metadata": {},
   "source": [
    "---\n",
    "\n",
    "## Topic 12. Index and Reset Index"
   ]
  },
  {
   "cell_type": "code",
   "execution_count": null,
   "id": "8e59a397-33ca-4932-a3d5-4dead738a253",
   "metadata": {},
   "outputs": [],
   "source": [
    "df_female = df[df['driver_gender'] == 'F']\n",
    "df_female.head()"
   ]
  },
  {
   "cell_type": "code",
   "execution_count": null,
   "id": "008e468e-be62-4283-9b15-add5213335a7",
   "metadata": {},
   "outputs": [],
   "source": [
    "df_female.iloc[0:2]"
   ]
  },
  {
   "cell_type": "code",
   "execution_count": null,
   "id": "339210d5-cc5a-4e65-a501-272c0305a23c",
   "metadata": {},
   "outputs": [],
   "source": [
    "df_female = df_female.reset_index(drop=True)\n",
    "df_female.head()"
   ]
  },
  {
   "cell_type": "markdown",
   "id": "c52236fb-3383-4d80-a273-3aed9c9cc50e",
   "metadata": {},
   "source": [
    "---\n",
    "\n",
    "## Topic 13. Sorting and Group Calculations"
   ]
  },
  {
   "cell_type": "code",
   "execution_count": null,
   "id": "6300cf3b-e085-4935-a7bc-619c232f5cbf",
   "metadata": {},
   "outputs": [],
   "source": [
    "df.sort_values('driver_age')"
   ]
  },
  {
   "cell_type": "code",
   "execution_count": null,
   "id": "b27b64d8-f793-4d5e-8810-429bfe6b6e03",
   "metadata": {},
   "outputs": [],
   "source": [
    "df.sort_values('driver_age', ascending=False)"
   ]
  },
  {
   "cell_type": "code",
   "execution_count": null,
   "id": "b2ded787-1e39-41f7-95a9-8dfadfac1557",
   "metadata": {},
   "outputs": [],
   "source": [
    "df.groupby('is_arrested')['driver_age'].mean()"
   ]
  },
  {
   "cell_type": "code",
   "execution_count": null,
   "id": "84c40db5-9632-41ea-b8c9-0dc922ae1d2b",
   "metadata": {},
   "outputs": [],
   "source": [
    "df.groupby('stop_year')['driver_age'].mean().plot()"
   ]
  }
 ],
 "metadata": {
  "kernelspec": {
   "display_name": "Python 3 (ipykernel)",
   "language": "python",
   "name": "python3"
  },
  "language_info": {
   "codemirror_mode": {
    "name": "ipython",
    "version": 3
   },
   "file_extension": ".py",
   "mimetype": "text/x-python",
   "name": "python",
   "nbconvert_exporter": "python",
   "pygments_lexer": "ipython3",
   "version": "3.11.8"
  }
 },
 "nbformat": 4,
 "nbformat_minor": 5
}
